{
  "cells": [
    {
      "cell_type": "markdown",
      "metadata": {
        "id": "view-in-github",
        "colab_type": "text"
      },
      "source": [
        "<a href=\"https://colab.research.google.com/github/tracieschroeder/Earth-Science/blob/main/Inside_the_Earth_Student.ipynb\" target=\"_parent\"><img src=\"https://colab.research.google.com/assets/colab-badge.svg\" alt=\"Open In Colab\"/></a>"
      ]
    },
    {
      "cell_type": "markdown",
      "source": [
        "#Inside the Earth\n",
        "##Objectives:\n",
        "*   Predict the speed of seismic waves through the Earth\n",
        "*   Compare predicted speed of seismic waves and actual speed"
      ],
      "metadata": {
        "id": "9arY1FIM1wWZ"
      }
    },
    {
      "cell_type": "markdown",
      "metadata": {
        "id": "r4Z1gpGycSu5"
      },
      "source": [
        "# Google Colab. How does it work? Why do I have to do it?\n",
        "Google Colaboratory is a web-based program that allows us to write and execute code in the Python programming language. (Fun fact, Python is not named after the snake, but Monty Python's Flying Circus. The more you know.)\n",
        "\n",
        "There are two types of editors in Colab. The first is a text box. Like this. You can type text and your computer will ignore everything in the box when it runs your code. The second is a code box. This is where you type the code for the computer to read.\n",
        "\n",
        "Because I said so. Just kidding. Sort of. Coding is not just a skill that can open doors, it is a way of thinking that allows you to make sense of the things around you."
      ]
    },
    {
      "cell_type": "markdown",
      "metadata": {
        "id": "aNRM_68VmOmB"
      },
      "source": [
        "## Importing Libraries\n",
        "Colab doesn't really have much in the way of functions in and of itself, but it allows you to import many different coding libraries. These libraries are essentially software packages the allow you to perform different functions within your program.\n",
        "\n",
        "Click the \"play\" button on the left side of the code cell below."
      ]
    },
    {
      "cell_type": "code",
      "metadata": {
        "id": "aGuRZ8xlxdTa"
      },
      "source": [
        "# Import software packages (not too exciting)\n",
        "# You will need datascience, matplotlib, and pyplot\n",
        "# this cell only needs to be run once, but re-exectuing it doesn't hurt anything either\n",
        "%matplotlib inline\n",
        "import matplotlib as mpl\n",
        "import matplotlib.pyplot as plt\n",
        "import datascience as ds\n",
        "from datascience import *"
      ],
      "execution_count": null,
      "outputs": []
    },
    {
      "cell_type": "markdown",
      "metadata": {
        "id": "jVcf5Fz-jBGu"
      },
      "source": [
        "### What does all of this mean?\n",
        "\n",
        "![link text](https://www.data8.org/zero-to-data-8/_static/data8.png)\n",
        "\n",
        "`import datascience as ds`\n",
        "\n",
        "  **datascience** intuitively conduct data science techniques without first spending considerable time directly learning more complex tools\n",
        "# [datascience Documentation](https://www.data8.org/zero-to-data-8/datascience.html)\n",
        "\n",
        "\n",
        "![link text](https://upload.wikimedia.org/wikipedia/commons/0/01/Created_with_Matplotlib-logo.svg)\n",
        "```\n",
        "import matplotlib as mpl\n",
        "import matplotlib.pyplot as plt\n",
        "```\n",
        " **matplotlib** is a plotting library for the Python programming language and its numerical mathematics extension NumPy. It provides an object-oriented API for embedding plots into applications\n",
        "\n",
        "# [matplotlib Documentation](https://matplotlib.org/stable/contents.html)"
      ]
    },
    {
      "cell_type": "markdown",
      "metadata": {
        "id": "f0WQ3KYvnhvy"
      },
      "source": [
        "#**Learning Check!**\n",
        "\n",
        "Notice that we are importing each library as something else. Why do you think we are doing that? (Write your answer here!)\n",
        "\n"
      ]
    },
    {
      "cell_type": "markdown",
      "metadata": {
        "id": "fkUpwvCrA8kE"
      },
      "source": [
        "# Making a Data Table\n",
        "\n",
        "In this lab, we have recorded the geocentric angle location of each station relative to the earthquake and the straight line distance through the Earth of the station from the earthquake.\n",
        "\n",
        "We will now take that data and add it to a data table."
      ]
    },
    {
      "cell_type": "markdown",
      "source": [
        "Look at the code cell below.\n",
        "\n",
        "Line 1 tells the computer that we want to make a data table.\n",
        "\n",
        "Line 2 tells the computer that we want to make a column in our data table called \"Station Number\". The number of each station is listed, separated by commas, enclosed in the brackets. In computer talk, this listing of items is called an **array**.\n",
        "\n",
        "In Line 3, we want to tell the computer to create a second column called \"Station Location\". Note that there are no numbers in the brackets. Add your measurements here.\n",
        "\n",
        "Notice that each array must have the same number of data points.\n",
        "\n",
        "Once you have the data entered, click on the play button."
      ],
      "metadata": {
        "id": "MwPfKruM7jpT"
      }
    },
    {
      "cell_type": "code",
      "source": [
        "quake = Table().with_columns(\n",
        "    'Station Number', make_array(1,2,3,4,5,6,7,8,9,10,11,12,13,14,15,16,17),\n",
        "    'Station Location (degrees)', make_array('add your data here')\n",
        "\n",
        "\n",
        ")\n",
        "quake"
      ],
      "metadata": {
        "colab": {
          "base_uri": "https://localhost:8080/",
          "height": 356
        },
        "id": "GiZ5cQS6f1Xl",
        "outputId": "8f4181f1-eb4d-4510-baed-d3574dfdde81"
      },
      "execution_count": null,
      "outputs": [
        {
          "output_type": "error",
          "ename": "ValueError",
          "evalue": "Column length mismatch. New column does not have the same number of rows as table.",
          "traceback": [
            "\u001b[0;31m---------------------------------------------------------------------------\u001b[0m",
            "\u001b[0;31mValueError\u001b[0m                                Traceback (most recent call last)",
            "\u001b[0;32m<ipython-input-2-a5c27a982ce6>\u001b[0m in \u001b[0;36m<cell line: 0>\u001b[0;34m()\u001b[0m\n\u001b[0;32m----> 1\u001b[0;31m quake = Table().with_columns(\n\u001b[0m\u001b[1;32m      2\u001b[0m     \u001b[0;34m'Station Number'\u001b[0m\u001b[0;34m,\u001b[0m \u001b[0mmake_array\u001b[0m\u001b[0;34m(\u001b[0m\u001b[0;36m1\u001b[0m\u001b[0;34m,\u001b[0m\u001b[0;36m2\u001b[0m\u001b[0;34m,\u001b[0m\u001b[0;36m3\u001b[0m\u001b[0;34m,\u001b[0m\u001b[0;36m4\u001b[0m\u001b[0;34m,\u001b[0m\u001b[0;36m5\u001b[0m\u001b[0;34m,\u001b[0m\u001b[0;36m6\u001b[0m\u001b[0;34m,\u001b[0m\u001b[0;36m7\u001b[0m\u001b[0;34m,\u001b[0m\u001b[0;36m8\u001b[0m\u001b[0;34m,\u001b[0m\u001b[0;36m9\u001b[0m\u001b[0;34m,\u001b[0m\u001b[0;36m10\u001b[0m\u001b[0;34m,\u001b[0m\u001b[0;36m11\u001b[0m\u001b[0;34m,\u001b[0m\u001b[0;36m12\u001b[0m\u001b[0;34m,\u001b[0m\u001b[0;36m13\u001b[0m\u001b[0;34m,\u001b[0m\u001b[0;36m14\u001b[0m\u001b[0;34m,\u001b[0m\u001b[0;36m15\u001b[0m\u001b[0;34m,\u001b[0m\u001b[0;36m16\u001b[0m\u001b[0;34m,\u001b[0m\u001b[0;36m17\u001b[0m\u001b[0;34m)\u001b[0m\u001b[0;34m,\u001b[0m\u001b[0;34m\u001b[0m\u001b[0;34m\u001b[0m\u001b[0m\n\u001b[1;32m      3\u001b[0m     \u001b[0;34m'Station Location (degrees)'\u001b[0m\u001b[0;34m,\u001b[0m \u001b[0mmake_array\u001b[0m\u001b[0;34m(\u001b[0m\u001b[0;34m'add your data here'\u001b[0m\u001b[0;34m)\u001b[0m\u001b[0;34m\u001b[0m\u001b[0;34m\u001b[0m\u001b[0m\n\u001b[1;32m      4\u001b[0m \u001b[0;34m\u001b[0m\u001b[0m\n\u001b[1;32m      5\u001b[0m \u001b[0;34m\u001b[0m\u001b[0m\n",
            "\u001b[0;32m/usr/local/lib/python3.11/dist-packages/datascience/tables.py\u001b[0m in \u001b[0;36mwith_columns\u001b[0;34m(self, *labels_and_values, **formatter)\u001b[0m\n\u001b[1;32m   2581\u001b[0m         \u001b[0;32mfor\u001b[0m \u001b[0mi\u001b[0m \u001b[0;32min\u001b[0m \u001b[0mrange\u001b[0m\u001b[0;34m(\u001b[0m\u001b[0;36m0\u001b[0m\u001b[0;34m,\u001b[0m \u001b[0mlen\u001b[0m\u001b[0;34m(\u001b[0m\u001b[0mlabels_and_values\u001b[0m\u001b[0;34m)\u001b[0m\u001b[0;34m,\u001b[0m \u001b[0;36m2\u001b[0m\u001b[0;34m)\u001b[0m\u001b[0;34m:\u001b[0m\u001b[0;34m\u001b[0m\u001b[0;34m\u001b[0m\u001b[0m\n\u001b[1;32m   2582\u001b[0m             \u001b[0mlabel\u001b[0m\u001b[0;34m,\u001b[0m \u001b[0mvalues\u001b[0m \u001b[0;34m=\u001b[0m \u001b[0mlabels_and_values\u001b[0m\u001b[0;34m[\u001b[0m\u001b[0mi\u001b[0m\u001b[0;34m]\u001b[0m\u001b[0;34m,\u001b[0m \u001b[0mlabels_and_values\u001b[0m\u001b[0;34m[\u001b[0m\u001b[0mi\u001b[0m\u001b[0;34m+\u001b[0m\u001b[0;36m1\u001b[0m\u001b[0;34m]\u001b[0m\u001b[0;34m\u001b[0m\u001b[0;34m\u001b[0m\u001b[0m\n\u001b[0;32m-> 2583\u001b[0;31m             \u001b[0mself\u001b[0m \u001b[0;34m=\u001b[0m \u001b[0mself\u001b[0m\u001b[0;34m.\u001b[0m\u001b[0mwith_column\u001b[0m\u001b[0;34m(\u001b[0m\u001b[0mlabel\u001b[0m\u001b[0;34m,\u001b[0m \u001b[0mvalues\u001b[0m\u001b[0;34m,\u001b[0m \u001b[0mformatter\u001b[0m\u001b[0;34m)\u001b[0m\u001b[0;34m\u001b[0m\u001b[0;34m\u001b[0m\u001b[0m\n\u001b[0m\u001b[1;32m   2584\u001b[0m         \u001b[0;32mreturn\u001b[0m \u001b[0mself\u001b[0m\u001b[0;34m\u001b[0m\u001b[0;34m\u001b[0m\u001b[0m\n\u001b[1;32m   2585\u001b[0m \u001b[0;34m\u001b[0m\u001b[0m\n",
            "\u001b[0;32m/usr/local/lib/python3.11/dist-packages/datascience/tables.py\u001b[0m in \u001b[0;36mwith_column\u001b[0;34m(self, label, values, formatter)\u001b[0m\n\u001b[1;32m   2498\u001b[0m         \u001b[0;32melif\u001b[0m \u001b[0misinstance\u001b[0m\u001b[0;34m(\u001b[0m\u001b[0mformatter\u001b[0m\u001b[0;34m,\u001b[0m \u001b[0mdict\u001b[0m\u001b[0;34m)\u001b[0m\u001b[0;34m:\u001b[0m\u001b[0;34m\u001b[0m\u001b[0;34m\u001b[0m\u001b[0m\n\u001b[1;32m   2499\u001b[0m             \u001b[0mformatter\u001b[0m \u001b[0;34m=\u001b[0m \u001b[0mformatter\u001b[0m\u001b[0;34m[\u001b[0m\u001b[0;34m\"formatter\"\u001b[0m\u001b[0;34m]\u001b[0m\u001b[0;34m\u001b[0m\u001b[0;34m\u001b[0m\u001b[0m\n\u001b[0;32m-> 2500\u001b[0;31m         \u001b[0mnew_table\u001b[0m\u001b[0;34m.\u001b[0m\u001b[0mappend_column\u001b[0m\u001b[0;34m(\u001b[0m\u001b[0mlabel\u001b[0m\u001b[0;34m,\u001b[0m \u001b[0mvalues\u001b[0m\u001b[0;34m,\u001b[0m \u001b[0mformatter\u001b[0m\u001b[0;34m)\u001b[0m\u001b[0;34m\u001b[0m\u001b[0;34m\u001b[0m\u001b[0m\n\u001b[0m\u001b[1;32m   2501\u001b[0m         \u001b[0;32mreturn\u001b[0m \u001b[0mnew_table\u001b[0m\u001b[0;34m\u001b[0m\u001b[0;34m\u001b[0m\u001b[0m\n\u001b[1;32m   2502\u001b[0m \u001b[0;34m\u001b[0m\u001b[0m\n",
            "\u001b[0;32m/usr/local/lib/python3.11/dist-packages/datascience/tables.py\u001b[0m in \u001b[0;36mappend_column\u001b[0;34m(self, label, values, formatter)\u001b[0m\n\u001b[1;32m    989\u001b[0m \u001b[0;34m\u001b[0m\u001b[0m\n\u001b[1;32m    990\u001b[0m         \u001b[0;32mif\u001b[0m \u001b[0mself\u001b[0m\u001b[0;34m.\u001b[0m\u001b[0mnum_rows\u001b[0m \u001b[0;34m!=\u001b[0m \u001b[0;36m0\u001b[0m \u001b[0;32mand\u001b[0m \u001b[0mlen\u001b[0m\u001b[0;34m(\u001b[0m\u001b[0mvalues\u001b[0m\u001b[0;34m)\u001b[0m \u001b[0;34m!=\u001b[0m \u001b[0mself\u001b[0m\u001b[0;34m.\u001b[0m\u001b[0mnum_rows\u001b[0m\u001b[0;34m:\u001b[0m\u001b[0;34m\u001b[0m\u001b[0;34m\u001b[0m\u001b[0m\n\u001b[0;32m--> 991\u001b[0;31m             raise ValueError('Column length mismatch. New column does not have '\n\u001b[0m\u001b[1;32m    992\u001b[0m                              'the same number of rows as table.')\n\u001b[1;32m    993\u001b[0m         \u001b[0;32melse\u001b[0m\u001b[0;34m:\u001b[0m\u001b[0;34m\u001b[0m\u001b[0;34m\u001b[0m\u001b[0m\n",
            "\u001b[0;31mValueError\u001b[0m: Column length mismatch. New column does not have the same number of rows as table."
          ]
        }
      ]
    },
    {
      "cell_type": "markdown",
      "source": [
        "##**Learning Check!**\n",
        "\n",
        "1. Look at line 1 in the code cell above. What is the name of the data table?\n",
        "\n",
        "2. Why does the word 'quake' need to be in Line 5? Delete it and rerun the program to check your answer."
      ],
      "metadata": {
        "id": "sHpKx1CUaAvo"
      }
    },
    {
      "cell_type": "markdown",
      "source": [
        "##**Model Distance Column**\n",
        "\n",
        "Nice! Now that you know how to create a table, go back up and add in a column for \"Model Distance (cm)\" for the rest of the data that you measured."
      ],
      "metadata": {
        "id": "DdaB3ckTg6sO"
      }
    },
    {
      "cell_type": "markdown",
      "source": [
        "##**Adding Calculated Columns**\n",
        "\n",
        "Now we are going to add columns for our calculations. This code block is going to take each distance we measured on the model and multiply it by 320 to find the scaled distance on Earth.\n",
        "\n",
        "Take a look at the code below. Run the cell and see what happens.\n",
        "\n",
        "Does the new column match the data that you calculated before?"
      ],
      "metadata": {
        "id": "Nqw5Yhf4iaDi"
      }
    },
    {
      "cell_type": "code",
      "source": [
        "quake=quake.with_columns(\n",
        "      'Earth Distance (km)',quake.column('Model Distance (cm)')*320\n",
        ")\n",
        "quake"
      ],
      "metadata": {
        "id": "DdHEZZ0thVU7"
      },
      "execution_count": null,
      "outputs": []
    },
    {
      "cell_type": "markdown",
      "source": [
        "##**Learning Check!**\n",
        "\n",
        "1. What is the name of the new column?\n",
        "\n",
        "2. Where did the numbers in the 'Distance in Earth (km)' column come from?\n",
        "\n",
        "3. Why does the word 'quake' need to be in Line 4?"
      ],
      "metadata": {
        "id": "ePukV62GkupT"
      }
    },
    {
      "cell_type": "markdown",
      "source": [
        "##**Time (s) Column**\n",
        "\n",
        "In the code block below, create a new column called 'Time (s)' Remember we discovered that seismic waves travel through rock with a speed of 11 km/s and that time can be found by taking distance traveled divided by speed."
      ],
      "metadata": {
        "id": "GgQj1N68lmzN"
      }
    },
    {
      "cell_type": "code",
      "source": [
        "#Create a new column for the data table for the Travel Time (s).\n",
        "\n"
      ],
      "metadata": {
        "id": "ls6dORE4g6St"
      },
      "execution_count": null,
      "outputs": []
    },
    {
      "cell_type": "markdown",
      "source": [
        "##**Time (min) Column**\n",
        "\n",
        "Create a new column called 'Travel Time (min)'\n",
        "\n",
        "HINT: How many seconds are there in one minute?"
      ],
      "metadata": {
        "id": "5NH9ciOkmBdl"
      }
    },
    {
      "cell_type": "code",
      "source": [
        "#Create a new column for the data table for the Travel Time (min)."
      ],
      "metadata": {
        "id": "Zb2nDLAHj_El"
      },
      "execution_count": null,
      "outputs": []
    },
    {
      "cell_type": "markdown",
      "source": [
        "##**Make a Graph**\n",
        "\n",
        "Now for the fun part! We want to plot the Station Location (degrees) on the x-axis and the Time (min) on the y axis."
      ],
      "metadata": {
        "id": "rbN0SLBHkMvX"
      }
    },
    {
      "cell_type": "code",
      "source": [
        "fig = plt.figure(figsize=(15, 10))\n",
        "\n",
        "x = quake.column('Station Location (degrees)')\n",
        "y1 = quake.column('What column do we want on the y axis?')\n",
        "\n",
        "plt.scatter(x, y1, marker='v', color='b', s=100)\n",
        "\n",
        "plt.title(\"title?\")\n",
        "plt.xlabel(\"Label me!\")\n",
        "plt.ylabel(\"Me, too!\");\n",
        "plt.show()\n",
        "fig"
      ],
      "metadata": {
        "id": "Ke5ZoJ8Kkq26"
      },
      "execution_count": null,
      "outputs": []
    },
    {
      "cell_type": "markdown",
      "source": [
        "##**Learning Check!**\n",
        "\n",
        "Notice the title of your graph. Rename the graph so that the title reads \"Travel Time vs Station Location\"\n",
        "\n",
        "Give appropriate labels to the axes. Include the units!\n",
        "\n",
        "Can you change the color of the data points? What about the shape of the data points? Make them bigger or smaller? (Remember there is some documentation that can tell you the options!)\n",
        "\n",
        "What happens if you change the numbers in Line 1?"
      ],
      "metadata": {
        "id": "DSlwHNJC8SFg"
      }
    },
    {
      "cell_type": "markdown",
      "source": [
        "##**Assignment in Classroom!**\n",
        "\n",
        "There is a lab summary assignment in Classroom for you to complete about this graph.\n",
        "\n",
        "\n"
      ],
      "metadata": {
        "id": "g9VYKXvHrFM9"
      }
    },
    {
      "cell_type": "markdown",
      "source": [
        "#**Part II**\n",
        "\n",
        "Actual Results\n",
        "\n",
        "The Record Section (blue and green paper) shows the times that the seismic waves actually arrived at the stations.\n"
      ],
      "metadata": {
        "id": "Jd-vyyQNrYy1"
      }
    },
    {
      "cell_type": "markdown",
      "source": [
        "##**Add in the actual arrival times**\n",
        "\n",
        "Add the recorded arrival times as an array and add it to the data table."
      ],
      "metadata": {
        "id": "g7535ufBr3dy"
      }
    },
    {
      "cell_type": "code",
      "source": [
        "quake=quake.with_columns(\n",
        "    'Actual Time (min)', make_array('we need a list of data')\n",
        ")\n",
        "quake"
      ],
      "metadata": {
        "id": "g0g9HDBTsQ2t"
      },
      "execution_count": null,
      "outputs": []
    },
    {
      "cell_type": "markdown",
      "source": [
        "##**Graph both sets of data**\n",
        "\n",
        "Remember our goal is to compare the predicted arrival times of the seismic waves to the actual time of arrival at each station. The easiest way to do this is to plot both sets of data on the same graph."
      ],
      "metadata": {
        "id": "nQk0SUum5qia"
      }
    },
    {
      "cell_type": "code",
      "execution_count": null,
      "metadata": {
        "id": "FsxYhKu76jy9"
      },
      "outputs": [],
      "source": [
        "graph = plt.figure(figsize=(15, 10))\n",
        "\n",
        "x = quake['This is the same x axis from before']\n",
        "y1 = quake['Have we not done this already?']\n",
        "y2 = quake['Which column is the actual time of arrival?']\n",
        "\n",
        "plt.scatter(x, y1, marker='v', color='b', s=100)\n",
        "plt.scatter(x, y2, marker='*', color='r', s=100)\n",
        "\n",
        "#plt.scatter(quake['Station Location (degrees)'],quake['Travel Time (min)'], s=100)\n",
        "plt.title(\"title?\")\n",
        "plt.xlabel(\"Label me!\")\n",
        "plt.ylabel(\"Me, too!\");\n",
        "plt.show()\n"
      ]
    },
    {
      "cell_type": "markdown",
      "source": [
        "##**The Big Reveal**\n",
        "\n",
        "1. At which stations does the predicted time of arrival match the actual time of arrival?\n",
        "\n",
        "2. Which stations does the predicted time of arrival NOT match the actual time of arrival?\n",
        "\n",
        "\n"
      ],
      "metadata": {
        "id": "DYIaO9DW6b3j"
      }
    },
    {
      "cell_type": "markdown",
      "source": [
        "##**Assignment in Classroom**\n",
        "\n",
        "There is a CER summary assignment in Classroom for you to complete about this graph.\n",
        "\n",
        "\n"
      ],
      "metadata": {
        "id": "akT4MAQk6eKW"
      }
    },
    {
      "cell_type": "markdown",
      "source": [
        "This notebook was designed by [Tracie Schroeder](https://github.com/tracieschroeder)."
      ],
      "metadata": {
        "id": "szWiIa1iktke"
      }
    }
  ],
  "metadata": {
    "colab": {
      "collapsed_sections": [
        "8tUG_sHorh4c"
      ],
      "provenance": [],
      "include_colab_link": true
    },
    "kernelspec": {
      "display_name": "Python 3",
      "language": "python",
      "name": "python3"
    },
    "language_info": {
      "codemirror_mode": {
        "name": "ipython",
        "version": 3
      },
      "file_extension": ".py",
      "mimetype": "text/x-python",
      "name": "python",
      "nbconvert_exporter": "python",
      "pygments_lexer": "ipython3",
      "version": "3.7.4"
    }
  },
  "nbformat": 4,
  "nbformat_minor": 0
}